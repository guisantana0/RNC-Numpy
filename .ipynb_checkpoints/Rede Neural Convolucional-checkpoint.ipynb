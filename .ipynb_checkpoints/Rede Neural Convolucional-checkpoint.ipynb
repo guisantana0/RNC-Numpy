{
 "cells": [
  {
   "cell_type": "code",
   "execution_count": null,
   "metadata": {},
   "outputs": [],
   "source": [
    "import numpy as np\n",
    "import pandas as pd\n",
    "import matplotlib.pyplot as plt\n",
    "import tensorflow as tf\n",
    "import imageio"
   ]
  },
  {
   "cell_type": "code",
   "execution_count": null,
   "metadata": {},
   "outputs": [],
   "source": [
    "def densificaRotulosParaVetorDeResposta(gabaritoDeRespostaDoTreino, numeroDeCategorias):\n",
    "    quantidadeDeRespostas = gabaritoDeRespostaDoTreino.shape[0]\n",
    "    \n",
    "    print(quantidadeDeRespostas)\n",
    "    \n",
    "    intervaloDoIndice = np.arange(quantidadeDeRespostas) * numeroDeCategorias\n",
    "    \n",
    "    respostaCategorica = np.zeros((quantidadeDeRespostas, numeroDeCategorias))\n",
    "    \n",
    "    respostaCategorica.flat[intervaloDoIndice + gabaritoDeRespostaDoTreino.ravel()] = 1\n",
    "    return respostaCategorica"
   ]
  },
  {
   "cell_type": "code",
   "execution_count": null,
   "metadata": {},
   "outputs": [],
   "source": [
    "def exibeImagemDaMatriz(imagemRedimensionada):\n",
    "    plt.imsave('pic.png', imagemRedimensionada)\n",
    "    # read the image\n",
    "    im = plt.imread('pic.png')\n",
    "    # show the image\n",
    "    plt.imshow(im)\n",
    "    #save the image array to binary file\n",
    "    np.save('mypic', im)\n",
    "    plt.show()"
   ]
  },
  {
   "cell_type": "code",
   "execution_count": null,
   "metadata": {},
   "outputs": [],
   "source": [
    "def salvaImagemDaMatriz(imagemRedimensionada):\n",
    "    numeroMagico = np.random.randint(0,999)\n",
    "    nomeDoArquivo = \"imagem\"+str(numeroMagico)+\".png\"\n",
    "    plt.imsave(nomeDoArquivo, imagemRedimensionada)\n",
    "    #np.save(nomeDoArquivo, im)\n",
    "    "
   ]
  },
  {
   "cell_type": "code",
   "execution_count": null,
   "metadata": {},
   "outputs": [],
   "source": [
    "def salvaImagemGif(nomeDaImagem, colecaoImagens):\n",
    "    imageio.mimwrite(nomeDaImagem, colecaoImagens,'gif')"
   ]
  },
  {
   "cell_type": "code",
   "execution_count": null,
   "metadata": {},
   "outputs": [],
   "source": [
    "def salvaConjuntoImagemGif(nomeDaColecao, colecaoDeGifs):\n",
    "    for indice in range(colecaoDeGifs.shape[0]):\n",
    "        nomeDoArquivo = nomeDaColecao + \" - \"+ str(indice)+\".gif\"\n",
    "        salvaImagemGif(nomeDoArquivo,colecaoDeGifs[indice])"
   ]
  },
  {
   "cell_type": "code",
   "execution_count": null,
   "metadata": {},
   "outputs": [],
   "source": [
    "def abreImagemExemplo():\n",
    "    imagem = imageio.imread('1.jpg','jpg')\n",
    "    return imagem"
   ]
  },
  {
   "cell_type": "code",
   "execution_count": null,
   "metadata": {},
   "outputs": [],
   "source": [
    "dataTR = pd.read_csv('input/train.csv')\n",
    "marcadorDoIndiceDeTreino = 0\n",
    "imagens = dataTR.iloc[:,1:].values\n",
    "imagens = imagens.astype(np.float)\n",
    "gabaritoDeRespostaDoTreino = dataTR.iloc[:,0].values\n",
    "numeroDeCategorias = 10\n",
    "listaDeRespostaCategoricas = densificaRotulosParaVetorDeResposta(gabaritoDeRespostaDoTreino, numeroDeCategorias)"
   ]
  },
  {
   "cell_type": "code",
   "execution_count": null,
   "metadata": {},
   "outputs": [],
   "source": [
    "numeroMagico = np.random.randint(0,750)\n",
    "imagemRedimensionada = imagens[numeroMagico].reshape(28,28)\n",
    "identificacaoDaImagem = gabaritoDeRespostaDoTreino[numeroMagico]"
   ]
  },
  {
   "cell_type": "code",
   "execution_count": null,
   "metadata": {},
   "outputs": [],
   "source": [
    "exibeImagemDaMatriz(imagemRedimensionada)\n",
    "print(identificacaoDaImagem)"
   ]
  },
  {
   "cell_type": "code",
   "execution_count": null,
   "metadata": {},
   "outputs": [],
   "source": [
    "def geraFiltroAleatorioComTamanho(tamanhoDaJanela):\n",
    "    filtro = np.random.rand(tamanhoDaJanela,tamanhoDaJanela)\n",
    "    return filtro"
   ]
  },
  {
   "cell_type": "code",
   "execution_count": null,
   "metadata": {},
   "outputs": [],
   "source": [
    "def calculaProdutoEscalarMatrizesComTamanhoDaJanela( matriz1, matriz2, tamanhoDaJanela):\n",
    "    valorEscalar = 0\n",
    "    for i in range(matriz1.shape[0]):\n",
    "        valorEscalar += np.dot(matriz1[i],matriz2[i])\n",
    "    return valorEscalar"
   ]
  },
  {
   "cell_type": "code",
   "execution_count": null,
   "metadata": {},
   "outputs": [],
   "source": [
    "def relu(x):\n",
    "    if x<0:\n",
    "        return 0\n",
    "    else:\n",
    "        return x"
   ]
  },
  {
   "cell_type": "code",
   "execution_count": null,
   "metadata": {},
   "outputs": [],
   "source": [
    "def maxpollDaMatriz(matriz):\n",
    "    return np.argmax(matriz)"
   ]
  },
  {
   "cell_type": "code",
   "execution_count": null,
   "metadata": {},
   "outputs": [],
   "source": [
    "def executaConvolucao (entradaDaConvolucao,tamanhoDaJanela):\n",
    "    iteracaoColuna  = 0\n",
    "    iteracaoLinha   = 0\n",
    "    \n",
    "    dimensaoXMatrizDeEntrada = int (entradaDaConvolucao.shape[0])\n",
    "    dimensaoYMatrizDeEntrada = int (entradaDaConvolucao.shape[1])\n",
    "    \n",
    "    tamanhoXDaMatrizConvolucao = dimensaoXMatrizDeEntrada - tamanhoDaJanela\n",
    "    tamanhoYDaMatrizConvolucao = dimensaoYMatrizDeEntrada - tamanhoDaJanela\n",
    "    \n",
    "    CamadaConvolucao    = np.zeros([tamanhoXDaMatrizConvolucao, tamanhoYDaMatrizConvolucao])\n",
    "    \n",
    "    filtro = geraFiltroAleatorioComTamanho(tamanhoDaJanela)\n",
    "    \n",
    "    for iteracaoLinha in range(tamanhoXDaMatrizConvolucao):\n",
    "        for iteracaoColuna in range(tamanhoYDaMatrizConvolucao):\n",
    "            \n",
    "            fimDaColunaDaJanela = iteracaoColuna + tamanhoDaJanela\n",
    "            fimDaLinhaDaJanela = iteracaoLinha + tamanhoDaJanela\n",
    "            \n",
    "            submatriz = entradaDaConvolucao [iteracaoLinha:fimDaLinhaDaJanela, iteracaoColuna: fimDaColunaDaJanela]\n",
    "            \n",
    "            valorPixelDaConvolucao = calculaProdutoEscalarMatrizesComTamanhoDaJanela(submatriz , filtro,tamanhoDaJanela)\n",
    "            \n",
    "            CamadaConvolucao [iteracaoLinha, iteracaoColuna] =  relu(valorPixelDaConvolucao)\n",
    "    return CamadaConvolucao\n",
    "\n",
    "\n"
   ]
  },
  {
   "cell_type": "code",
   "execution_count": null,
   "metadata": {},
   "outputs": [],
   "source": [
    "def executaMaxpooling(matrizDeEntrada, tamanhoDaJanela, intervaloPorIteracao):\n",
    "    dimensaoXMatrizDeEntrada = int (matrizDeEntrada.shape[0])\n",
    "    dimensaoYMatrizDeEntrada = int (matrizDeEntrada.shape[1])\n",
    "    tamanhoXDaMatrizMaxPolling = int((matrizDeEntrada.shape[0] - tamanhoDaJanela) + 1/intervaloPorIteracao)\n",
    "    tamanhoYDaMatrizMaxPolling = int((matrizDeEntrada.shape[1] - tamanhoDaJanela) + 1/intervaloPorIteracao)\n",
    "    \n",
    "\n",
    "    \n",
    "    matrizMaxPool = np.zeros([tamanhoXDaMatrizMaxPolling,tamanhoYDaMatrizMaxPolling])\n",
    "    colunaMaxPool = 0\n",
    "    linhaMaxPool  = 0\n",
    "\n",
    "    for iteracaoLinha in range(0,tamanhoXDaMatrizMaxPolling ,intervaloPorIteracao):\n",
    "        for iteracaoColuna in range(0, tamanhoYDaMatrizMaxPolling , intervaloPorIteracao):\n",
    "            submatriz = matrizDeEntrada[ iteracaoLinha: iteracaoLinha + tamanhoDaJanela, iteracaoColuna: iteracaoColuna + tamanhoDaJanela ]\n",
    "            matrizMaxPool[ iteracaoLinha,iteracaoColuna ] = int(np.argmax(submatriz))\n",
    "    return matrizMaxPool"
   ]
  },
  {
   "cell_type": "code",
   "execution_count": null,
   "metadata": {},
   "outputs": [],
   "source": [
    "def obtemcuboConvolucional(entrada,quantidadeDefiltros,tamanhoDaJanela):\n",
    "    cuboConvolucional =  []\n",
    "    if (len(entrada.shape) > 2):\n",
    "        for caracteristica in range(entrada.shape[0]):\n",
    "            cubo = obtemcuboConvolucional(entrada[caracteristica],quantidadeDeFiltros,tamanhoDaJanela)\n",
    "            cuboConvolucional.append(cubo)\n",
    "    else:\n",
    "        for i in range(quantidadeDefiltros):\n",
    "            cuboConvolucional.append(executaConvolucao(entrada,tamanhoDaJanela))\n",
    "    return cuboConvolucional"
   ]
  },
  {
   "cell_type": "code",
   "execution_count": null,
   "metadata": {},
   "outputs": [],
   "source": [
    "def obtemCuboMaxPooling(cuboConvolucional,tamanhoDaJanela,intervaloPorIteracao):\n",
    "    cuboMaxPooling = []\n",
    "    for i in range(cuboConvolucional.shape[0]):\n",
    "        cuboMaxPooling.append(executaMaxpooling(cuboConvolucional[i], tamanhoDaJanela, intervaloPorIteracao))\n",
    "    return cuboMaxPooling"
   ]
  },
  {
   "cell_type": "code",
   "execution_count": null,
   "metadata": {
    "scrolled": true
   },
   "outputs": [],
   "source": [
    "imagemDeExemplo = abreImagemExemplo()\n",
    "imagemDeExemploArray = np.asarray(imagemDeExemplo)"
   ]
  },
  {
   "cell_type": "code",
   "execution_count": null,
   "metadata": {},
   "outputs": [],
   "source": [
    "plt.title('Canal Vermelho')\n",
    "plt.ylabel('Altura {}'.format(imagemDeExemplo.shape[0]))\n",
    "plt.xlabel('Comprimento {}'.format(imagemDeExemplo.shape[1]))\n",
    "\n",
    "plt.imshow(imagemDeExemplo[ : , : , 0])\n",
    "print(imagemDeExemplo[ : , : , 0].shape)\n",
    "salvaImagemDaMatriz(imagemDeExemplo[ : , : , 0])\n",
    "plt.show()"
   ]
  },
  {
   "cell_type": "code",
   "execution_count": null,
   "metadata": {},
   "outputs": [],
   "source": [
    "plt.title('Canal Verde')\n",
    "plt.ylabel('Altura {}'.format(imagemDeExemplo.shape[0]))\n",
    "plt.xlabel('Comprimento {}'.format(imagemDeExemplo.shape[1]))\n",
    "\n",
    "plt.imshow(imagemDeExemplo[ : , : , 1])\n",
    "salvaImagemDaMatriz(imagemDeExemplo[ : , : , 1])\n",
    "plt.show()"
   ]
  },
  {
   "cell_type": "code",
   "execution_count": null,
   "metadata": {},
   "outputs": [],
   "source": [
    "plt.title('Canal Azul')\n",
    "plt.ylabel('Altura {}'.format(imagemDeExemplo.shape[0]))\n",
    "plt.xlabel('Comprimento {}'.format(imagemDeExemplo.shape[1]))\n",
    "\n",
    "plt.imshow(imagemDeExemplo[ : , : , 2])\n",
    "salvaImagemDaMatriz(imagemDeExemplo[ : , : , 2])\n",
    "plt.show()"
   ]
  },
  {
   "cell_type": "code",
   "execution_count": null,
   "metadata": {},
   "outputs": [],
   "source": [
    "quantidadeDeFiltros = 10\n",
    "tamanhoDoFiltro = 8"
   ]
  },
  {
   "cell_type": "code",
   "execution_count": null,
   "metadata": {},
   "outputs": [],
   "source": [
    "imagemDeExemploVermelho= imagemDeExemplo[ : , : , 0]\n",
    "imagemDeExemploVerde= imagemDeExemplo[ : , : , 1]\n",
    "imagemDeExemploAzul= imagemDeExemplo[ : , : , 2]"
   ]
  },
  {
   "cell_type": "code",
   "execution_count": null,
   "metadata": {},
   "outputs": [],
   "source": [
    "cuboConvolucionalVermelho = obtemcuboConvolucional(imagemDeExemploVermelho,quantidadeDeFiltros,tamanhoDoFiltro)\n",
    "cuboConvolucionalVermelhoMatriz = np.asarray(cuboConvolucionalVermelho)\n",
    "salvaImagemGif('cuboConvolucionalMatrizVermelho.gif',cuboConvolucionalVermelho)"
   ]
  },
  {
   "cell_type": "code",
   "execution_count": null,
   "metadata": {},
   "outputs": [],
   "source": [
    "#cuboConvolucionalAzul = obtemcuboConvolucional(imagemDeExemploAzul,quantidadeDeFiltros,tamanhoDoFiltro)\n",
    "#cuboConvolucionalAzulMatriz = np.asarray(cuboConvolucionalAzul)\n",
    "#salvaImagemGif('cuboConvolucionalMatrizAzul.gif',cuboConvolucionalAzul)"
   ]
  },
  {
   "cell_type": "code",
   "execution_count": null,
   "metadata": {},
   "outputs": [],
   "source": [
    "#cuboConvolucionalVerde = obtemcuboConvolucional(imagemDeExemploVerde,quantidadeDeFiltros,tamanhoDoFiltro)\n",
    "#cuboConvolucionalVerdeMatriz = np.asarray(cuboConvolucionalVerde)\n",
    "#salvaImagemGif('cuboConvolucionalMatrizVerde.gif',cuboConvolucionalVerde)"
   ]
  },
  {
   "cell_type": "code",
   "execution_count": null,
   "metadata": {},
   "outputs": [],
   "source": [
    "cuboConvolucionalColorido = []\n",
    "for i in range (quantidadeDeFiltros):\n",
    "    cuboConvolucionalColorido[i].append(cuboConvolucionalVermelho[i])\n",
    "    cuboConvolucionalColorido[i].append(cuboConvolucionalVerde[i])\n",
    "    cuboConvolucionalColorido[i].append(cuboConvolucionalAzul[i])\n",
    "\n",
    "cuboConvolucionalColoridoMatriz = np.asarray(cuboConvolucionalColorido)\n",
    "salvaImagemGif('cuboConvolucionalMatrizColorido.gif',cuboConvolucionalColoridoMatriz)"
   ]
  },
  {
   "cell_type": "code",
   "execution_count": null,
   "metadata": {},
   "outputs": [],
   "source": [
    "CuboMaxPooling = obtemCuboMaxPooling (cuboConvolucionalVermelhoMatriz, 2, 1)\n",
    "CuboMaxPoolingMatriz = np.asarray(CuboMaxPooling)\n"
   ]
  },
  {
   "cell_type": "code",
   "execution_count": null,
   "metadata": {},
   "outputs": [],
   "source": [
    "#nao rodar ainda pois esta sendo testado a celula anterior (muito processamento)\n",
    "#segundoCuboConvolucional = obtemcuboConvolucional(CuboMaxPoolingMatriz,20,4)\n",
    "#segundoCuboConvolucionalMatriz = np.asarray(segundoCuboConvolucional)\n",
    "#salvaConjuntoImagemGif(str(identificacaoDaImagem),segundoCuboConvolucionalMatriz)"
   ]
  },
  {
   "cell_type": "code",
   "execution_count": null,
   "metadata": {},
   "outputs": [],
   "source": [
    "segundaCamadaConvolucional = "
   ]
  },
  {
   "cell_type": "code",
   "execution_count": null,
   "metadata": {},
   "outputs": [],
   "source": [
    "\n",
    "#print(segundoCuboConvolucional[0])\n",
    "\n",
    "#imagemPool = executaMaxpooling(cuboConvolucional[0],2,1)\n",
    "\n",
    "#salvaImagemDaMatriz(cuboConvolucionalMatriz.reshape(cuboConvolucionalMatriz.shape[-1] * quantidadeDeFiltros,cuboConvolucionalMatriz.shape[-2]))\n",
    "#salvaImagemDaMatriz(CuboMaxPoolingMatriz.reshape(CuboMaxPoolingMatriz.shape[-1] * quantidadeDeFiltros,CuboMaxPoolingMatriz.shape[-2]))\n",
    "\n",
    "#salvaImagemGif('cuboConvolucionalMatriz.gif',cuboConvolucionalMatriz)\n",
    "\n",
    "\n",
    "# salvaImagemDaMatriz(cuboConvolucionalMatriz.reshape(240,24))\n",
    "# salvaImagemDaMatriz(CuboMaxPoolingMatriz.reshape(230,23))"
   ]
  },
  {
   "cell_type": "code",
   "execution_count": null,
   "metadata": {},
   "outputs": [],
   "source": []
  }
 ],
 "metadata": {
  "kernelspec": {
   "display_name": "Python 3",
   "language": "python",
   "name": "python3"
  },
  "language_info": {
   "codemirror_mode": {
    "name": "ipython",
    "version": 3
   },
   "file_extension": ".py",
   "mimetype": "text/x-python",
   "name": "python",
   "nbconvert_exporter": "python",
   "pygments_lexer": "ipython3",
   "version": "3.5.0"
  }
 },
 "nbformat": 4,
 "nbformat_minor": 2
}

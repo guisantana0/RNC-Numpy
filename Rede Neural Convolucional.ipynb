{
 "cells": [
  {
   "cell_type": "code",
   "execution_count": 1,
   "metadata": {},
   "outputs": [],
   "source": [
    "import numpy as np\n",
    "import pandas as pd\n",
    "import matplotlib.pyplot as plt\n",
    "#import tensorflow as tf\n",
    "import imageio"
   ]
  },
  {
   "cell_type": "code",
   "execution_count": 2,
   "metadata": {},
   "outputs": [],
   "source": [
    "def densificaRotulosParaVetorDeResposta(gabaritoDeRespostaDoTreino, numeroDeCategorias):\n",
    "    quantidadeDeRespostas = gabaritoDeRespostaDoTreino.shape[0]\n",
    "    \n",
    "    print(quantidadeDeRespostas)\n",
    "    \n",
    "    intervaloDoIndice = np.arange(quantidadeDeRespostas) * numeroDeCategorias\n",
    "    \n",
    "    respostaCategorica = np.zeros((quantidadeDeRespostas, numeroDeCategorias))\n",
    "    \n",
    "    respostaCategorica.flat[intervaloDoIndice + gabaritoDeRespostaDoTreino.ravel()] = 1\n",
    "    return respostaCategorica"
   ]
  },
  {
   "cell_type": "code",
   "execution_count": 3,
   "metadata": {},
   "outputs": [],
   "source": [
    "def exibeImagemDaMatriz(imagemRedimensionada):\n",
    "    plt.imsave('pic.png', imagemRedimensionada)\n",
    "    # read the image\n",
    "    im = plt.imread('pic.png')\n",
    "    # show the image\n",
    "    plt.imshow(im)\n",
    "    #save the image array to binary file\n",
    "    np.save('mypic', im)\n",
    "    plt.show()"
   ]
  },
  {
   "cell_type": "code",
   "execution_count": 4,
   "metadata": {},
   "outputs": [],
   "source": [
    "def salvaImagemDaMatriz(imagemRedimensionada):\n",
    "    numeroMagico = np.random.randint(0,999)\n",
    "    nomeDoArquivo = \"imagem\"+str(numeroMagico)+\".png\"\n",
    "    plt.imsave(nomeDoArquivo, imagemRedimensionada)\n",
    "    #np.save(nomeDoArquivo, im)\n",
    "    "
   ]
  },
  {
   "cell_type": "code",
   "execution_count": 5,
   "metadata": {},
   "outputs": [],
   "source": [
    "def salvaImagemGif(nomeDaImagem, colecaoImagens):\n",
    "    imageio.mimwrite(nomeDaImagem+\".gif\", colecaoImagens,'gif')"
   ]
  },
  {
   "cell_type": "code",
   "execution_count": 6,
   "metadata": {},
   "outputs": [],
   "source": [
    "def salvaConjuntoImagemGif(nomeDaColecao, colecaoDeGifs):\n",
    "    for indice in range(len(colecaoDeGifs)):\n",
    "        nomeDoArquivo = nomeDaColecao + \" - \"+ str(indice)+\".gif\"\n",
    "        salvaImagemGif(nomeDoArquivo,colecaoDeGifs[indice])"
   ]
  },
  {
   "cell_type": "code",
   "execution_count": 7,
   "metadata": {},
   "outputs": [],
   "source": [
    "def abreImagemExemplo():\n",
    "    imagem = imageio.imread('1.jpg','jpg')\n",
    "    return imagem"
   ]
  },
  {
   "cell_type": "code",
   "execution_count": 8,
   "metadata": {},
   "outputs": [
    {
     "name": "stdout",
     "output_type": "stream",
     "text": [
      "42000\n"
     ]
    }
   ],
   "source": [
    "dataTR = pd.read_csv('input/train.csv')\n",
    "marcadorDoIndiceDeTreino = 0\n",
    "imagens = dataTR.iloc[:,1:].values\n",
    "imagens = imagens.astype(np.float)\n",
    "gabaritoDeRespostaDoTreino = dataTR.iloc[:,0].values\n",
    "numeroDeCategorias = 10\n",
    "listaDeRespostaCategoricas = densificaRotulosParaVetorDeResposta(gabaritoDeRespostaDoTreino, numeroDeCategorias)"
   ]
  },
  {
   "cell_type": "code",
   "execution_count": 9,
   "metadata": {},
   "outputs": [],
   "source": [
    "numeroMagico = np.random.randint(0,750)\n",
    "imagemRedimensionada = imagens[numeroMagico].reshape(28,28)\n",
    "identificacaoDaImagem = gabaritoDeRespostaDoTreino[numeroMagico]\n"
   ]
  },
  {
   "cell_type": "code",
   "execution_count": 41,
   "metadata": {},
   "outputs": [
    {
     "data": {
      "image/png": "[encoded data removed]",
      "text/plain": [
       "<Figure size 432x288 with 1 Axes>"
      ]
     },
     "metadata": {
      "needs_background": "light"
     },
     "output_type": "display_data"
    },
    {
     "name": "stdout",
     "output_type": "stream",
     "text": [
      "1\n",
      "[0. 1. 0. 0. 0. 0. 0. 0. 0. 0.]\n"
     ]
    }
   ],
   "source": [
    "exibeImagemDaMatriz(imagemRedimensionada)\n",
    "print(identificacaoDaImagem)\n",
    "print (listaDeRespostaCategoricas[numeroMagico])"
   ]
  },
  {
   "cell_type": "code",
   "execution_count": 11,
   "metadata": {},
   "outputs": [],
   "source": [
    "def geraFiltroAleatorioComTamanho(tamanhoDaJanela):\n",
    "    filtro = np.random.rand(tamanhoDaJanela,tamanhoDaJanela)\n",
    "    return filtro"
   ]
  },
  {
   "cell_type": "code",
   "execution_count": 12,
   "metadata": {},
   "outputs": [],
   "source": [
    "def calculaProdutoEscalarMatrizesComTamanhoDaJanela( matriz1, matriz2, tamanhoDaJanela):\n",
    "    valorEscalar = 0\n",
    "    for i in range(matriz1.shape[0]):\n",
    "        valorEscalar += np.dot(matriz1[i],matriz2[i])\n",
    "    return valorEscalar"
   ]
  },
  {
   "cell_type": "code",
   "execution_count": 13,
   "metadata": {},
   "outputs": [],
   "source": [
    "def relu(x):\n",
    "    if x<0:\n",
    "        return 0\n",
    "    else:\n",
    "        return x"
   ]
  },
  {
   "cell_type": "code",
   "execution_count": 14,
   "metadata": {},
   "outputs": [],
   "source": [
    "def maxpollDaMatriz(matriz):\n",
    "    return np.argmax(matriz)"
   ]
  },
  {
   "cell_type": "code",
   "execution_count": 15,
   "metadata": {},
   "outputs": [],
   "source": [
    "def executaConvolucao (entradaDaConvolucao,tamanhoDaJanela):\n",
    "    iteracaoColuna  = 0\n",
    "    iteracaoLinha   = 0\n",
    "    \n",
    "    dimensaoXMatrizDeEntrada = int (entradaDaConvolucao.shape[0])\n",
    "    dimensaoYMatrizDeEntrada = int (entradaDaConvolucao.shape[1])\n",
    "    \n",
    "    tamanhoXDaMatrizConvolucao = dimensaoXMatrizDeEntrada - tamanhoDaJanela\n",
    "    tamanhoYDaMatrizConvolucao = dimensaoYMatrizDeEntrada - tamanhoDaJanela\n",
    "    \n",
    "    CamadaConvolucao    = np.zeros([tamanhoXDaMatrizConvolucao, tamanhoYDaMatrizConvolucao])\n",
    "    \n",
    "    filtro = geraFiltroAleatorioComTamanho(tamanhoDaJanela)\n",
    "    \n",
    "    for iteracaoLinha in range(tamanhoXDaMatrizConvolucao):\n",
    "        for iteracaoColuna in range(tamanhoYDaMatrizConvolucao):\n",
    "            \n",
    "            fimDaColunaDaJanela = iteracaoColuna + tamanhoDaJanela\n",
    "            fimDaLinhaDaJanela = iteracaoLinha + tamanhoDaJanela\n",
    "            \n",
    "            submatriz = entradaDaConvolucao [iteracaoLinha:fimDaLinhaDaJanela, iteracaoColuna: fimDaColunaDaJanela]\n",
    "            \n",
    "            valorPixelDaConvolucao = calculaProdutoEscalarMatrizesComTamanhoDaJanela(submatriz , filtro,tamanhoDaJanela)\n",
    "            \n",
    "            CamadaConvolucao [iteracaoLinha, iteracaoColuna] =  relu(valorPixelDaConvolucao)\n",
    "    return CamadaConvolucao\n",
    "\n",
    "\n"
   ]
  },
  {
   "cell_type": "code",
   "execution_count": 16,
   "metadata": {},
   "outputs": [],
   "source": [
    "def executaMaxpooling(matrizDeEntrada, tamanhoDaJanela, intervaloPorIteracao):\n",
    "    dimensaoXMatrizDeEntrada = int (matrizDeEntrada.shape[0])\n",
    "    dimensaoYMatrizDeEntrada = int (matrizDeEntrada.shape[1])\n",
    "    tamanhoXDaMatrizMaxPolling = int(((matrizDeEntrada.shape[0] - tamanhoDaJanela) )/intervaloPorIteracao)+ 1\n",
    "    tamanhoYDaMatrizMaxPolling = int(((matrizDeEntrada.shape[1] - tamanhoDaJanela) )/intervaloPorIteracao)+ 1\n",
    "\n",
    "    matrizMaxPool = np.zeros([tamanhoXDaMatrizMaxPolling,tamanhoYDaMatrizMaxPolling])\n",
    "\n",
    "    colunaMaxPool = 0\n",
    "    linhaMaxPool  = 0\n",
    "    for iteracaoLinha in range(0,dimensaoXMatrizDeEntrada-tamanhoDaJanela ,intervaloPorIteracao):\n",
    "        colunaMaxPool = 0\n",
    "        for iteracaoColuna in range(0, dimensaoYMatrizDeEntrada-tamanhoDaJanela , intervaloPorIteracao):\n",
    "            submatriz = matrizDeEntrada[ iteracaoLinha: iteracaoLinha + tamanhoDaJanela, iteracaoColuna: iteracaoColuna + tamanhoDaJanela ]\n",
    "            matrizMaxPool[ linhaMaxPool,colunaMaxPool ] = int(np.argmax(submatriz))\n",
    "            colunaMaxPool += 1\n",
    "        linhaMaxPool += 1\n",
    "    return matrizMaxPool"
   ]
  },
  {
   "cell_type": "code",
   "execution_count": 17,
   "metadata": {},
   "outputs": [],
   "source": [
    "def obtemcuboConvolucional(entrada,quantidadeDefiltros,tamanhoDaJanela):\n",
    "    cuboConvolucional =  []\n",
    "    if (len(np.shape(entrada)) > 2):\n",
    "        for caracteristica in range(np.shape(entrada)[0]):\n",
    "            cubo = obtemcuboConvolucional(entrada[caracteristica],quantidadeDeFiltros,tamanhoDaJanela)\n",
    "            cuboConvolucional.append(cubo)\n",
    "    else:\n",
    "        for i in range(quantidadeDefiltros):\n",
    "            cuboConvolucional.append(executaConvolucao(entrada,tamanhoDaJanela))\n",
    "    return cuboConvolucional"
   ]
  },
  {
   "cell_type": "code",
   "execution_count": 18,
   "metadata": {},
   "outputs": [],
   "source": [
    "def obtemCuboMaxPooling(cuboConvolucional,tamanhoDaJanela,intervaloPorIteracao):\n",
    "    cuboMaxPooling = []\n",
    "    if (len(np.shape(cuboConvolucional))>3):\n",
    "        for subTensor in cuboConvolucional:\n",
    "            submatrizRecursiva = obtemCuboMaxPooling(subTensor,tamanhoDaJanela,intervaloPorIteracao)\n",
    "            cuboMaxPooling.append(submatrizRecursiva)\n",
    "    else:\n",
    "        for i in range(np.shape(cuboConvolucional)[0]):\n",
    "            cuboMaxPooling.append(executaMaxpooling(cuboConvolucional[i], tamanhoDaJanela, intervaloPorIteracao))\n",
    "    return cuboMaxPooling"
   ]
  },
  {
   "cell_type": "code",
   "execution_count": 19,
   "metadata": {
    "scrolled": true
   },
   "outputs": [],
   "source": [
    "#imagemDeExemplo = abreImagemExemplo()\n",
    "imagemDeExemplo = imagemRedimensionada\n",
    "imagemDeExemploArray = np.asarray(imagemRedimensionada)"
   ]
  },
  {
   "cell_type": "code",
   "execution_count": 20,
   "metadata": {},
   "outputs": [],
   "source": [
    "def exibeCanalVermelho(imagem):\n",
    "    plt.title('Canal Vermelho')\n",
    "    plt.ylabel('Altura {}'.format(imagem.shape[0]))\n",
    "    plt.xlabel('Comprimento {}'.format(imagem.shape[1]))\n",
    "    if (len(imagem.shape)>3):\n",
    "        plt.imshow(imagem[ : , : , 0])\n",
    "        print(imagem[ : , : , 0].shape)\n",
    "        salvaImagemDaMatriz(imagem[ : , : , 0])\n",
    "    if (len(imagem.shape) == 2):\n",
    "        plt.imshow(imagem)\n",
    "        plt.show()"
   ]
  },
  {
   "cell_type": "code",
   "execution_count": 21,
   "metadata": {},
   "outputs": [
    {
     "data": {
      "image/png": "[encoded data removed]",
      "text/plain": [
       "<Figure size 432x288 with 1 Axes>"
      ]
     },
     "metadata": {
      "needs_background": "light"
     },
     "output_type": "display_data"
    }
   ],
   "source": [
    "exibeCanalVermelho(imagemDeExemplo)"
   ]
  },
  {
   "cell_type": "code",
   "execution_count": 22,
   "metadata": {},
   "outputs": [],
   "source": [
    "#plt.title('Canal Verde')\n",
    "#plt.ylabel('Altura {}'.format(imagemDeExemplo.shape[0]))\n",
    "#plt.xlabel('Comprimento {}'.format(imagemDeExemplo.shape[1]))\n",
    "\n",
    "#plt.imshow(imagemDeExemplo[ : , : , 1])\n",
    "#salvaImagemDaMatriz(imagemDeExemplo[ : , : , 1])\n",
    "#plt.show()"
   ]
  },
  {
   "cell_type": "code",
   "execution_count": 23,
   "metadata": {},
   "outputs": [],
   "source": [
    "#plt.title('Canal Azul')\n",
    "#plt.ylabel('Altura {}'.format(imagemDeExemplo.shape[0]))\n",
    "#plt.xlabel('Comprimento {}'.format(imagemDeExemplo.shape[1]))\n",
    "\n",
    "#plt.imshow(imagemDeExemplo[ : , : , 2])\n",
    "#salvaImagemDaMatriz(imagemDeExemplo[ : , : , 2])\n",
    "#plt.show()"
   ]
  },
  {
   "cell_type": "code",
   "execution_count": 24,
   "metadata": {},
   "outputs": [],
   "source": [
    "quantidadeDeFiltros = 9\n",
    "tamanhoDoFiltro = 4"
   ]
  },
  {
   "cell_type": "code",
   "execution_count": 25,
   "metadata": {},
   "outputs": [],
   "source": [
    "#imagemDeExemploVermelho= imagemDeExemplo[ : , : , 0]\n",
    "#imagemDeExemploVerde= imagemDeExemplo[ : , : , 1]\n",
    "#imagemDeExemploAzul= imagemDeExemplo[ : , : , 2]"
   ]
  },
  {
   "cell_type": "code",
   "execution_count": 26,
   "metadata": {},
   "outputs": [
    {
     "name": "stderr",
     "output_type": "stream",
     "text": [
      "WARNING:root:Lossy conversion from float64 to uint8. Range [0.0, 1023.2578894616261]. Convert image to uint8 prior to saving to suppress this warning.\n",
      "WARNING:root:Lossy conversion from float64 to uint8. Range [0.0, 1157.2058252957809]. Convert image to uint8 prior to saving to suppress this warning.\n",
      "WARNING:root:Lossy conversion from float64 to uint8. Range [0.0, 1009.4471142099053]. Convert image to uint8 prior to saving to suppress this warning.\n",
      "WARNING:root:Lossy conversion from float64 to uint8. Range [0.0, 1302.5174349694357]. Convert image to uint8 prior to saving to suppress this warning.\n",
      "WARNING:root:Lossy conversion from float64 to uint8. Range [0.0, 1246.195195156738]. Convert image to uint8 prior to saving to suppress this warning.\n",
      "WARNING:root:Lossy conversion from float64 to uint8. Range [0.0, 1244.680309579515]. Convert image to uint8 prior to saving to suppress this warning.\n",
      "WARNING:root:Lossy conversion from float64 to uint8. Range [0.0, 1098.4144143250367]. Convert image to uint8 prior to saving to suppress this warning.\n",
      "WARNING:root:Lossy conversion from float64 to uint8. Range [0.0, 1246.5463174269848]. Convert image to uint8 prior to saving to suppress this warning.\n",
      "WARNING:root:Lossy conversion from float64 to uint8. Range [0.0, 626.5041274536187]. Convert image to uint8 prior to saving to suppress this warning.\n"
     ]
    }
   ],
   "source": [
    "cuboConvolucionalVermelho = obtemcuboConvolucional(imagemDeExemplo,quantidadeDeFiltros,tamanhoDoFiltro)\n",
    "cuboConvolucionalVermelhoMatriz = np.asarray(cuboConvolucionalVermelho)\n",
    "salvaImagemGif('cuboConvolucional',cuboConvolucionalVermelho)"
   ]
  },
  {
   "cell_type": "code",
   "execution_count": 27,
   "metadata": {},
   "outputs": [],
   "source": [
    "#cuboConvolucionalAzul = obtemcuboConvolucional(imagemDeExemploAzul,quantidadeDeFiltros,tamanhoDoFiltro)\n",
    "#cuboConvolucionalAzulMatriz = np.asarray(cuboConvolucionalAzul)\n",
    "#salvaImagemGif('cuboConvolucionalMatrizAzul.gif',cuboConvolucionalAzul)"
   ]
  },
  {
   "cell_type": "code",
   "execution_count": 28,
   "metadata": {},
   "outputs": [],
   "source": [
    "#cuboConvolucionalVerde = obtemcuboConvolucional(imagemDeExemploVerde,quantidadeDeFiltros,tamanhoDoFiltro)\n",
    "#cuboConvolucionalVerdeMatriz = np.asarray(cuboConvolucionalVerde)\n",
    "#salvaImagemGif('cuboConvolucionalMatrizVerde.gif',cuboConvolucionalVerde)"
   ]
  },
  {
   "cell_type": "code",
   "execution_count": 29,
   "metadata": {},
   "outputs": [],
   "source": [
    "#cuboConvolucionalColorido = []\n",
    "#for i in range (quantidadeDeFiltros):\n",
    "#    cuboConvolucionalColorido[i].append(cuboConvolucionalVermelho[i])\n",
    "#    cuboConvolucionalColorido[i].append(cuboConvolucionalVerde[i])\n",
    "#    cuboConvolucionalColorido[i].append(cuboConvolucionalAzul[i])\n",
    "\n",
    "#cuboConvolucionalColoridoMatriz = np.asarray(cuboConvolucionalColorido)\n",
    "#salvaImagemGif('cuboConvolucionalMatrizColorido.gif',cuboConvolucionalColoridoMatriz)"
   ]
  },
  {
   "cell_type": "code",
   "execution_count": 30,
   "metadata": {},
   "outputs": [],
   "source": [
    "tamanhoDaJanela = 2\n",
    "passosPorIteracao = 2\n",
    "CuboMaxPooling = obtemCuboMaxPooling (cuboConvolucionalVermelhoMatriz, tamanhoDaJanela, passosPorIteracao)\n",
    "CuboMaxPoolingMatriz = np.asarray(CuboMaxPooling)\n"
   ]
  },
  {
   "cell_type": "code",
   "execution_count": 31,
   "metadata": {},
   "outputs": [
    {
     "data": {
      "image/png": "[encoded data removed]",
      "text/plain": [
       "<Figure size 432x288 with 1 Axes>"
      ]
     },
     "metadata": {
      "needs_background": "light"
     },
     "output_type": "display_data"
    },
    {
     "name": "stdout",
     "output_type": "stream",
     "text": [
      "(12, 12)\n"
     ]
    },
    {
     "data": {
      "image/png": "[encoded data removed]",
      "text/plain": [
       "<Figure size 432x288 with 1 Axes>"
      ]
     },
     "metadata": {
      "needs_background": "light"
     },
     "output_type": "display_data"
    },
    {
     "name": "stdout",
     "output_type": "stream",
     "text": [
      "(12, 12)\n"
     ]
    },
    {
     "data": {
      "image/png": "[encoded data removed]",
      "text/plain": [
       "<Figure size 432x288 with 1 Axes>"
      ]
     },
     "metadata": {
      "needs_background": "light"
     },
     "output_type": "display_data"
    },
    {
     "name": "stdout",
     "output_type": "stream",
     "text": [
      "(12, 12)\n"
     ]
    },
    {
     "data": {
      "image/png": "[encoded data removed]",
      "text/plain": [
       "<Figure size 432x288 with 1 Axes>"
      ]
     },
     "metadata": {
      "needs_background": "light"
     },
     "output_type": "display_data"
    },
    {
     "name": "stdout",
     "output_type": "stream",
     "text": [
      "(12, 12)\n"
     ]
    },
    {
     "data": {
      "image/png": "[encoded data removed]",
      "text/plain": [
       "<Figure size 432x288 with 1 Axes>"
      ]
     },
     "metadata": {
      "needs_background": "light"
     },
     "output_type": "display_data"
    },
    {
     "name": "stdout",
     "output_type": "stream",
     "text": [
      "(12, 12)\n"
     ]
    },
    {
     "data": {
      "image/png": "[encoded data removed]",
      "text/plain": [
       "<Figure size 432x288 with 1 Axes>"
      ]
     },
     "metadata": {
      "needs_background": "light"
     },
     "output_type": "display_data"
    },
    {
     "name": "stdout",
     "output_type": "stream",
     "text": [
      "(12, 12)\n"
     ]
    },
    {
     "data": {
      "image/png": "[encoded data removed]",
      "text/plain": [
       "<Figure size 432x288 with 1 Axes>"
      ]
     },
     "metadata": {
      "needs_background": "light"
     },
     "output_type": "display_data"
    },
    {
     "name": "stdout",
     "output_type": "stream",
     "text": [
      "(12, 12)\n"
     ]
    },
    {
     "data": {
      "image/png": "[encoded data removed]",
      "text/plain": [
       "<Figure size 432x288 with 1 Axes>"
      ]
     },
     "metadata": {
      "needs_background": "light"
     },
     "output_type": "display_data"
    },
    {
     "name": "stdout",
     "output_type": "stream",
     "text": [
      "(12, 12)\n"
     ]
    },
    {
     "data": {
      "image/png": "[encoded data removed]",
      "text/plain": [
       "<Figure size 432x288 with 1 Axes>"
      ]
     },
     "metadata": {
      "needs_background": "light"
     },
     "output_type": "display_data"
    },
    {
     "name": "stdout",
     "output_type": "stream",
     "text": [
      "(12, 12)\n"
     ]
    }
   ],
   "source": [
    "for imagem in CuboMaxPooling:\n",
    "    exibeImagemDaMatriz(imagem)\n",
    "    print(np.shape(imagem))"
   ]
  },
  {
   "cell_type": "code",
   "execution_count": 32,
   "metadata": {},
   "outputs": [],
   "source": [
    "#nao rodar ainda pois esta sendo testado a celula anterior (muito processamento)\n",
    "#segundoCuboConvolucional = obtemcuboConvolucional(CuboMaxPoolingMatriz,20,4)\n",
    "#segundoCuboConvolucionalMatriz = np.asarray(segundoCuboConvolucional)\n",
    "#salvaConjuntoImagemGif(str(identificacaoDaImagem),segundoCuboConvolucionalMatriz)"
   ]
  },
  {
   "cell_type": "code",
   "execution_count": 33,
   "metadata": {},
   "outputs": [
    {
     "name": "stdout",
     "output_type": "stream",
     "text": [
      "(9, 12, 12)\n"
     ]
    }
   ],
   "source": [
    "quantidadeDeFiltros2 = 9\n",
    "tamanhoDaJanela2 = 4\n",
    "segundaConvolucao = obtemcuboConvolucional(CuboMaxPooling, quantidadeDeFiltros2, tamanhoDaJanela2)\n",
    "print(np.shape(CuboMaxPooling))"
   ]
  },
  {
   "cell_type": "code",
   "execution_count": 34,
   "metadata": {},
   "outputs": [],
   "source": [
    "\n",
    "tamanhoDaJanela = 2\n",
    "passosPorIteracao = 1\n",
    "segundoMaxPooling = []\n",
    "#for cuboDaConvolucao in segundaConvolucao:\n",
    "#    segundoMaxPooling.append(obtemCuboMaxPooling(cuboDaConvolucao,tamanhoDaJanela, passosPorIteracao))\n",
    "segundoMaxPooling = obtemCuboMaxPooling(segundaConvolucao,tamanhoDaJanela,passosPorIteracao)"
   ]
  },
  {
   "cell_type": "code",
   "execution_count": 35,
   "metadata": {},
   "outputs": [
    {
     "name": "stdout",
     "output_type": "stream",
     "text": [
      "(9, 9, 7, 7)\n"
     ]
    }
   ],
   "source": [
    "print(np.shape(segundoMaxPooling))"
   ]
  },
  {
   "cell_type": "code",
   "execution_count": 36,
   "metadata": {},
   "outputs": [],
   "source": [
    "quantidadeDeFiltros3 = 9\n",
    "tamanhoDaJanela3 = 2\n",
    "terceiraCamadaConvolucional = []\n",
    "for cuboDoSegundoMaxPool in segundoMaxPooling:\n",
    "    terceiraCamadaConvolucional.append( obtemcuboConvolucional(cuboDoSegundoMaxPool,quantidadeDeFiltros3,tamanhoDaJanela3))"
   ]
  },
  {
   "cell_type": "code",
   "execution_count": 37,
   "metadata": {},
   "outputs": [
    {
     "data": {
      "text/plain": [
       "(9, 9, 9, 4, 4)"
      ]
     },
     "execution_count": 37,
     "metadata": {},
     "output_type": "execute_result"
    }
   ],
   "source": [
    "terceiroTensorMaxPooling = []\n",
    "tamanhoDaJanela = 2\n",
    "passosPorIteracao = 1\n",
    "terceiroTensorMaxPooling = obtemCuboMaxPooling(terceiraCamadaConvolucional, tamanhoDaJanela, passosPorIteracao)\n",
    "np.shape(terceiroTensorMaxPooling)"
   ]
  },
  {
   "cell_type": "code",
   "execution_count": 38,
   "metadata": {},
   "outputs": [],
   "source": [
    "dimensaoDoVetor = 1\n",
    "for dimensaoDoTensor in np.shape(terceiroTensorMaxPooling):\n",
    "    dimensaoDoVetor *= dimensaoDoTensor\n",
    "    \n",
    "\n",
    "vetorSaidaCapturaDeCaracteristica = np.asarray(terceiroTensorMaxPooling).reshape(int(np.sqrt(dimensaoDoVetor)),int(np.sqrt(dimensaoDoVetor)))\n",
    "salvaImagemDaMatriz(vetorSaidaCapturaDeCaracteristica)"
   ]
  },
  {
   "cell_type": "code",
   "execution_count": 39,
   "metadata": {},
   "outputs": [],
   "source": [
    "taxaDeAprendizado = 0.01"
   ]
  },
  {
   "cell_type": "code",
   "execution_count": 40,
   "metadata": {},
   "outputs": [],
   "source": [
    "def classifica(vetorDeEntrada):\n",
    "    "
   ]
  },
  {
   "cell_type": "code",
   "execution_count": null,
   "metadata": {},
   "outputs": [],
   "source": []
  }
 ],
 "metadata": {
  "kernelspec": {
   "display_name": "Python 3",
   "language": "python",
   "name": "python3"
  },
  "language_info": {
   "codemirror_mode": {
    "name": "ipython",
    "version": 3
   },
   "file_extension": ".py",
   "mimetype": "text/x-python",
   "name": "python",
   "nbconvert_exporter": "python",
   "pygments_lexer": "ipython3",
   "version": "3.5.0"
  }
 },
 "nbformat": 4,
 "nbformat_minor": 2
}
